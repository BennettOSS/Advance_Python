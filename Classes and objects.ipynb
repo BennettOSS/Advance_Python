{
 "cells": [
  {
   "cell_type": "code",
   "execution_count": null,
   "metadata": {},
   "outputs": [],
   "source": [
    "class Color:\n",
    "    def __init__(self, r=0, g=0, b=0):\n",
    "        self.r = r\n",
    "        self.g = g\n",
    "        self.b = b\n",
    "        \n",
    "    def display(self):\n",
    "        print(self.r, self.g, self.b)\n",
    "\n",
    "c1 = Color(254,0,0)\n",
    "c1.display()"
   ]
  },
  {
   "cell_type": "code",
   "execution_count": null,
   "metadata": {},
   "outputs": [],
   "source": [
    "class Color:\n",
    "    def __init__(self, r=0, g=0, b=0):\n",
    "        self.r = r\n",
    "        self.g = g\n",
    "        self.b = b\n",
    "        \n",
    "    def display(self):\n",
    "        print(self.r, self.g, self.b)\n",
    "    \n",
    "    def __str__(self):\n",
    "        return \"{}, {}, {}\".format(self.r, self.g, self.b)\n",
    "c2 = Color(255,128,128)\n",
    "print(c2)"
   ]
  },
  {
   "cell_type": "code",
   "execution_count": null,
   "metadata": {},
   "outputs": [],
   "source": [
    "class Color:\n",
    "    def __init__(self, r=0, g=0, b=0):\n",
    "        self.r = r\n",
    "        self.g = g\n",
    "        self.b = b\n",
    "        \n",
    "    def display(self):\n",
    "        print(self.r, self.g, self.b)\n",
    "    \n",
    "    def __str__(self):\n",
    "        return \"{}, {}, {}\".format(self.r, self.g, self.b)\n",
    "    \n",
    "    def __repr__(self):\n",
    "        return \"Color({}, {}, {})\".format(self.r, self.g, self.b)\n",
    "    \n",
    "c3 = Color(0, 0, 254)\n",
    "c3"
   ]
  },
  {
   "cell_type": "code",
   "execution_count": null,
   "metadata": {
    "scrolled": true
   },
   "outputs": [],
   "source": [
    "objs = [c1, c2, c3]\n",
    "objs"
   ]
  },
  {
   "cell_type": "markdown",
   "metadata": {},
   "source": [
    "### Adding methods to a class after creating the class"
   ]
  },
  {
   "cell_type": "code",
   "execution_count": null,
   "metadata": {},
   "outputs": [],
   "source": [
    "def check_name(self):\n",
    "    print(self.__class__.__name__)\n",
    "\n",
    "c9 = Color(128, 128, 128)    \n",
    "c9.check()\n",
    "\n",
    "# Color.check = check_name\n",
    "# c9 = Color(128, 128, 128)\n",
    "# c9.check()\n"
   ]
  },
  {
   "cell_type": "markdown",
   "metadata": {},
   "source": [
    "#### Add a method to this class that returns the Hex code for the giver RGB values"
   ]
  },
  {
   "cell_type": "markdown",
   "metadata": {},
   "source": [
    "#### Adding len()"
   ]
  },
  {
   "cell_type": "code",
   "execution_count": null,
   "metadata": {},
   "outputs": [],
   "source": [
    "class Color:\n",
    "    def __init__(self, r=0, g=0, b=0):\n",
    "        self.r = r\n",
    "        self.g = g\n",
    "        self.b = b\n",
    "        \n",
    "    def __str__(self):\n",
    "        return \"{}, {}, {}\".format(self.r, self.g, self.b)\n",
    "    \n",
    "    def __repr__(self):\n",
    "        return \"Color({}, {}, {})\".format(self.r, self.g, self.b)\n",
    "    \n",
    "    def __len__(self):\n",
    "        return 3\n",
    "\n",
    "c4 = Color(255,255,255)\n",
    "len(c4)"
   ]
  },
  {
   "cell_type": "markdown",
   "metadata": {},
   "source": [
    "#### Adding \\_\\_eq\\_\\_"
   ]
  },
  {
   "cell_type": "code",
   "execution_count": null,
   "metadata": {},
   "outputs": [],
   "source": [
    "class Color:\n",
    "    def __init__(self, r=0, g=0, b=0):\n",
    "        self.r = r\n",
    "        self.g = g\n",
    "        self.b = b\n",
    "        \n",
    "    def __str__(self):\n",
    "        return \"{}, {}, {}\".format(self.r, self.g, self.b)\n",
    "    \n",
    "    def __repr__(self):\n",
    "        return \"Color({}, {}, {})\".format(self.r, self.g, self.b)\n",
    "    \n",
    "    def __eq__(self, ob):\n",
    "        if self.r == ob.r and self.g == ob.g and self.b == ob.b:\n",
    "            return True\n",
    "        else:\n",
    "            return False\n",
    "        \n",
    "c5 = Color(255,0,0)\n",
    "c6 = Color(255,0,0)\n",
    "c5 == c6"
   ]
  },
  {
   "cell_type": "markdown",
   "metadata": {},
   "source": [
    "#### Similarily, we can add, \\_\\_ne\\_\\_, \\_\\_lt\\_\\_, \\_\\_le\\_\\_, \\_\\_gt\\_\\_, \\_\\_ge\\_\\_"
   ]
  },
  {
   "cell_type": "markdown",
   "metadata": {},
   "source": [
    "#### Adding \\_\\_add\\_\\_ "
   ]
  },
  {
   "cell_type": "code",
   "execution_count": null,
   "metadata": {},
   "outputs": [],
   "source": [
    "class Color:\n",
    "    def __init__(self, r=0, g=0, b=0):\n",
    "        self.r = r\n",
    "        self.g = g\n",
    "        self.b = b\n",
    "        \n",
    "    def __str__(self):\n",
    "        return \"{}, {}, {}\".format(self.r, self.g, self.b)\n",
    "    \n",
    "    def __repr__(self):\n",
    "        return \"Color({}, {}, {})\".format(self.r, self.g, self.b)\n",
    "    \n",
    "    def __add__(self, ob):\n",
    "        r = (self.r + ob.r) % 255\n",
    "        g = (self.g + ob.g) % 255\n",
    "        b = (self.b + ob.b) % 255 \n",
    "        return Color(r, g, b)\n",
    "    \n",
    "c7 = Color(20, 0, 111)\n",
    "c8 = Color(138, 0, 64)\n",
    "c7 + c1"
   ]
  },
  {
   "cell_type": "markdown",
   "metadata": {},
   "source": [
    "#### Similarily, we can add  \\_\\_sub\\_\\_, \\_\\_mul\\_\\_, \\_\\_matmul\\_\\_, \\_\\_truediv\\_\\_, \\_\\_floordiv\\_\\_, \\_\\_mod\\_\\_, \\_\\_divmod\\_\\_, \\_\\_pow\\_\\_, \\_\\_lshift\\_\\_, \\_\\_rshift\\_\\_, \\_\\_and\\_\\_, \\_\\_xor\\_\\_, \\_\\_or\\_\\_"
   ]
  },
  {
   "cell_type": "markdown",
   "metadata": {},
   "source": [
    "#### Implementing our own Iterator"
   ]
  },
  {
   "cell_type": "code",
   "execution_count": null,
   "metadata": {
    "scrolled": false
   },
   "outputs": [],
   "source": [
    "class Fib:\n",
    "    \n",
    "    def __init__(self, lim):\n",
    "        self.limit = lim\n",
    "        self.a = 0\n",
    "        self.b = 1\n",
    "        self.count = 1\n",
    "    \n",
    "    def __iter__(self):\n",
    "        return self\n",
    "    \n",
    "    def __next__(self):\n",
    "        if self.count<=self.limit:\n",
    "            if self.count == 1:\n",
    "                self.count+=1\n",
    "                return self.a\n",
    "            if self.count == 2:\n",
    "                self.count+=1\n",
    "                return self.b\n",
    "            else:\n",
    "                c = self.a + self.b\n",
    "                self.a = self.b\n",
    "                self.b = c\n",
    "                self.count+=1\n",
    "                return c\n",
    "        else:\n",
    "            raise StopIteration\n",
    "\n",
    "x = Fib(8)\n",
    "for i in x:\n",
    "    print(i)"
   ]
  },
  {
   "cell_type": "markdown",
   "metadata": {},
   "source": [
    "##### Write your own implementation of range using classes and iterators"
   ]
  },
  {
   "cell_type": "markdown",
   "metadata": {},
   "source": [
    "### with in Python\n",
    "#### \\_\\_enter\\_\\_ and  \\_\\_exit\\_\\_"
   ]
  },
  {
   "cell_type": "code",
   "execution_count": null,
   "metadata": {},
   "outputs": [],
   "source": [
    "class Fib:\n",
    "    \n",
    "    def __init__(self, lim):\n",
    "        self.limit = lim\n",
    "        self.a = 0\n",
    "        self.b = 1\n",
    "        self.count = 1\n",
    "    \n",
    "    def __iter__(self):\n",
    "        return self\n",
    "    \n",
    "    def __next__(self):\n",
    "        if self.count<=self.limit:\n",
    "            if self.count == 1:\n",
    "                self.count+=1\n",
    "                return self.a\n",
    "            if self.count == 2:\n",
    "                self.count+=1\n",
    "                return self.b\n",
    "            else:\n",
    "                c = self.a + self.b\n",
    "                self.a = self.b\n",
    "                self.b = c\n",
    "                self.count+=1\n",
    "                return c\n",
    "        else:\n",
    "            raise StopIteration\n",
    "     \n",
    "    def __enter__(self):\n",
    "        print(\"The limit is\", self.limit)\n",
    "        return self\n",
    "    \n",
    "    def __exit__(self, exc_type, exc_val, exc_tb):\n",
    "        print(\"Done\")\n",
    "        return None\n",
    "\n",
    "with Fib(8) as fb:\n",
    "    for i in fb:\n",
    "        print(i)"
   ]
  },
  {
   "cell_type": "markdown",
   "metadata": {},
   "source": [
    "### Inheritance"
   ]
  },
  {
   "cell_type": "code",
   "execution_count": null,
   "metadata": {},
   "outputs": [],
   "source": [
    "class Employee:\n",
    "    def __init__(self, name, eid):\n",
    "        self.name = name\n",
    "        self.eid = eid\n",
    "        \n",
    "    def display(self):\n",
    "        print(\"Employee Display\")\n",
    "        print(\"Name: {}\\nID: {}\".format(self.name,self.eid))\n",
    "\n",
    "emp1 = Employee(\"ABCD\", 12)\n",
    "emp1.display()"
   ]
  },
  {
   "cell_type": "code",
   "execution_count": null,
   "metadata": {},
   "outputs": [],
   "source": [
    "class Salary(Employee):\n",
    "    def __init__(self, name, eid, sal):\n",
    "        super().__init__(name, eid)\n",
    "        self.sal = sal\n",
    "    \n",
    "    def display(self):\n",
    "        super().display()\n",
    "        print(\"Salary Display\")\n",
    "        print(\"Salary:\", self.sal)\n",
    "\n",
    "sal1 = Salary(\"ABCD\", 12, 20000)\n",
    "sal1.display()"
   ]
  },
  {
   "cell_type": "code",
   "execution_count": null,
   "metadata": {},
   "outputs": [],
   "source": [
    "print(issubclass(Salary, Employee))\n",
    "print(issubclass(Employee, Salary))"
   ]
  },
  {
   "cell_type": "code",
   "execution_count": null,
   "metadata": {},
   "outputs": [],
   "source": [
    "print(isinstance(sal1, Employee))\n",
    "print(isinstance(sal1, Salary))\n",
    "print(isinstance(emp1, Employee))\n",
    "print(isinstance(emp1, Salary))"
   ]
  },
  {
   "cell_type": "markdown",
   "metadata": {},
   "source": [
    "### Type of methods\n",
    "- Instance Methods\n",
    "- Static methods\n",
    "- Class Methods"
   ]
  },
  {
   "cell_type": "markdown",
   "metadata": {},
   "source": [
    "### @staticmethod\n",
    "\n",
    "#### @staticmethod is used when a method is not does not depend on the class/object but depends only on the parameters given."
   ]
  },
  {
   "cell_type": "code",
   "execution_count": null,
   "metadata": {},
   "outputs": [],
   "source": [
    "class Color:\n",
    "       \n",
    "    def __init__(self, r=0, g=0, b=0):\n",
    "        self.r = r\n",
    "        self.g = g\n",
    "        self.b = b\n",
    "        \n",
    "    def __str__(self):\n",
    "        return \"{}, {}, {}\".format(self.r, self.g, self.b)\n",
    "    \n",
    "    def __repr__(self):\n",
    "        return \"Color({}, {}, {})\".format(self.r, self.g, self.b)\n",
    "    \n",
    "    @staticmethod\n",
    "    def color_dct(col):\n",
    "        black = {'r':0, 'g':0, 'b':0}\n",
    "        white = {'r':255, 'g':255, 'b':255}\n",
    "        if col=='black':\n",
    "            return black\n",
    "        elif col==\"white\":\n",
    "            return white\n",
    "        else:\n",
    "            raise ValueError(\"Invalid Color\")\n",
    "            \n",
    "\n",
    "c11 = Color(1,1,1)\n",
    "print(c11.color_dct(\"white\"))"
   ]
  },
  {
   "cell_type": "markdown",
   "metadata": {},
   "source": [
    "### Read about @classmethod\n"
   ]
  },
  {
   "cell_type": "markdown",
   "metadata": {},
   "source": [
    "### @property in Python\n",
    "#### Getters and setters"
   ]
  },
  {
   "cell_type": "code",
   "execution_count": null,
   "metadata": {},
   "outputs": [],
   "source": [
    "class Color:\n",
    "    def __init__(self, col = []):\n",
    "        self.color = col\n",
    "        \n",
    "    def show(self):\n",
    "        print(\"Color(r={}, g={}, b={})\".format(*tuple(self.color)))\n",
    "\n",
    "    \n",
    "c1 = Color([25,0,0])\n",
    "c1.show()\n",
    "        "
   ]
  },
  {
   "cell_type": "code",
   "execution_count": null,
   "metadata": {},
   "outputs": [],
   "source": [
    "class Color:\n",
    "    def __init__(self, col = []):\n",
    "        self.color = col\n",
    "        \n",
    "    def set_col(self, col):\n",
    "        for i in col:\n",
    "            if i>255:\n",
    "                raise ValueError(\"Value can't be more than 255\")\n",
    "        self.color = col\n",
    "        \n",
    "    def get_col(self):\n",
    "        return self.color\n",
    "    \n",
    "    def show(self):\n",
    "        print(\"Color(r={}, g={}, b={})\".format(*tuple(self.get_col())))\n",
    "        \n",
    "c1 = Color([25,0,0])\n",
    "c1.show()   "
   ]
  },
  {
   "cell_type": "code",
   "execution_count": null,
   "metadata": {},
   "outputs": [],
   "source": [
    "class Color:\n",
    "    def __init__(self, col = []):\n",
    "        self.color = col\n",
    "   \n",
    "    def set_col(self, col):\n",
    "        print(\"Setting\")\n",
    "        for i in col:\n",
    "            if i>255:\n",
    "                raise ValueError(\"Value can't be more than 255\")\n",
    "        self._color = col\n",
    "        \n",
    "    def get_col(self):\n",
    "        print(\"Getting\")\n",
    "        return self._color\n",
    "    \n",
    "    def show(self):\n",
    "        print(\"Color(r={}, g={}, b={})\".format(*tuple(self.get_col())))\n",
    "        \n",
    "    color = property(get_col, set_col)\n",
    "        \n",
    "c2 = Color([100,100,255])\n",
    "c2.show()"
   ]
  }
 ],
 "metadata": {
  "kernelspec": {
   "display_name": "Python 3",
   "language": "python",
   "name": "python3"
  },
  "language_info": {
   "codemirror_mode": {
    "name": "ipython",
    "version": 3
   },
   "file_extension": ".py",
   "mimetype": "text/x-python",
   "name": "python",
   "nbconvert_exporter": "python",
   "pygments_lexer": "ipython3",
   "version": "3.7.1"
  }
 },
 "nbformat": 4,
 "nbformat_minor": 2
}
