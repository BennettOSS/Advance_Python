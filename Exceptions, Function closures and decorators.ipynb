{
  "cells": [
    {
      "metadata": {},
      "cell_type": "markdown",
      "source": "#### Exception handling in Python\n##### It is used to handle change in code behaviour due to some error/exception"
    },
    {
      "metadata": {
        "trusted": true
      },
      "cell_type": "code",
      "source": "try:\n    x = 5/1\nexcept:\n    print('In except')\nelse:\n    print('In else')\nfinally:\n    print('Finally will always run')",
      "execution_count": 2,
      "outputs": [
        {
          "output_type": "stream",
          "text": "In else\nFinally will always run\n",
          "name": "stdout"
        }
      ]
    },
    {
      "metadata": {
        "trusted": true
      },
      "cell_type": "code",
      "source": "try:\n   # x = 5/0\n   # a  = int('h')\n    x = [0]\n    print(x[8])\nexcept ZeroDivisionError:\n    print(\"Division by 0 not possible\")\nexcept ValueError:\n    print(\"Cannot change a to int\")\nexcept:\n    print(\"Other exceptions\")",
      "execution_count": 7,
      "outputs": [
        {
          "output_type": "stream",
          "text": "Other exceptions\n",
          "name": "stdout"
        }
      ]
    },
    {
      "metadata": {
        "trusted": true
      },
      "cell_type": "code",
      "source": "a = 'h'\ntry:\n    x = 5/0\nexcept:\n    print('Zero Error')\n    try:\n        a = int(a)\n    except:\n        print('Value Error')",
      "execution_count": 8,
      "outputs": [
        {
          "output_type": "stream",
          "text": "Zero Error\nValue Error\n",
          "name": "stdout"
        }
      ]
    },
    {
      "metadata": {},
      "cell_type": "markdown",
      "source": " #### For a try block, there can be multiple except blocks but one else and one finally block"
    },
    {
      "metadata": {},
      "cell_type": "markdown",
      "source": "#### Calculate the number of  non-digit characters in a list using exception handling only"
    },
    {
      "metadata": {
        "trusted": true
      },
      "cell_type": "code",
      "source": "lst = [1,2,4,'a',5,6,'v',1,'e','n',7,'2']\nindex=0\ncount=0\nwhile(index<len(lst)):\n    try:\n        int(lst[index])\n    except:\n        count+=1\n    finally:\n        index+=1\nprint(count)",
      "execution_count": 12,
      "outputs": [
        {
          "output_type": "stream",
          "text": "4\n",
          "name": "stdout"
        }
      ]
    },
    {
      "metadata": {
        "scrolled": true,
        "trusted": true
      },
      "cell_type": "code",
      "source": "raise ValueError('raised value error')",
      "execution_count": 13,
      "outputs": [
        {
          "output_type": "error",
          "ename": "ValueError",
          "evalue": "raised value error",
          "traceback": [
            "\u001b[0;31m---------------------------------------------------------------------------\u001b[0m",
            "\u001b[0;31mValueError\u001b[0m                                Traceback (most recent call last)",
            "\u001b[0;32m<ipython-input-13-e5dd0fa3a7bf>\u001b[0m in \u001b[0;36m<module>\u001b[0;34m()\u001b[0m\n\u001b[0;32m----> 1\u001b[0;31m \u001b[0;32mraise\u001b[0m \u001b[0mValueError\u001b[0m\u001b[0;34m(\u001b[0m\u001b[0;34m'raised value error'\u001b[0m\u001b[0;34m)\u001b[0m\u001b[0;34m\u001b[0m\u001b[0m\n\u001b[0m",
            "\u001b[0;31mValueError\u001b[0m: raised value error"
          ]
        }
      ]
    },
    {
      "metadata": {
        "trusted": false
      },
      "cell_type": "code",
      "source": "age = 19\nif age>=18:\n    print('Vote')\nelse:\n    raise ValueError('Age should be greater than 18')",
      "execution_count": null,
      "outputs": []
    },
    {
      "metadata": {},
      "cell_type": "markdown",
      "source": "#### Write a Python function that takes only Armstrong number as input and raises error otherwise"
    },
    {
      "metadata": {
        "trusted": true
      },
      "cell_type": "code",
      "source": "num=input(\"Give armstrong number\")\nl=len(num)\nif(sum([int(i)**l for i in num])!=int(num)):\n    raise ValueError(\"Input must be Armstrong number\")",
      "execution_count": 19,
      "outputs": [
        {
          "output_type": "stream",
          "name": "stdout",
          "text": "Give armstrong number1\n"
        }
      ]
    },
    {
      "metadata": {},
      "cell_type": "markdown",
      "source": "### assert\n#### assert is used to check a given condition. If true, it continues execution else it raises an exception"
    },
    {
      "metadata": {
        "scrolled": true,
        "trusted": true
      },
      "cell_type": "code",
      "source": "assert 5!=5, 'Not correct'\nprint('Done')",
      "execution_count": 20,
      "outputs": [
        {
          "output_type": "error",
          "ename": "AssertionError",
          "evalue": "Not correct",
          "traceback": [
            "\u001b[0;31m---------------------------------------------------------------------------\u001b[0m",
            "\u001b[0;31mAssertionError\u001b[0m                            Traceback (most recent call last)",
            "\u001b[0;32m<ipython-input-20-532107c3e40c>\u001b[0m in \u001b[0;36m<module>\u001b[0;34m()\u001b[0m\n\u001b[0;32m----> 1\u001b[0;31m \u001b[0;32massert\u001b[0m \u001b[0;36m5\u001b[0m\u001b[0;34m!=\u001b[0m\u001b[0;36m5\u001b[0m\u001b[0;34m,\u001b[0m \u001b[0;34m'Not correct'\u001b[0m\u001b[0;34m\u001b[0m\u001b[0m\n\u001b[0m\u001b[1;32m      2\u001b[0m \u001b[0mprint\u001b[0m\u001b[0;34m(\u001b[0m\u001b[0;34m'Done'\u001b[0m\u001b[0;34m)\u001b[0m\u001b[0;34m\u001b[0m\u001b[0m\n",
            "\u001b[0;31mAssertionError\u001b[0m: Not correct"
          ]
        }
      ]
    },
    {
      "metadata": {
        "scrolled": true,
        "trusted": true
      },
      "cell_type": "code",
      "source": "number = 4\nassert number%2==0, 'Its odd'\nprint('Its even')",
      "execution_count": 21,
      "outputs": [
        {
          "output_type": "stream",
          "text": "Its even\n",
          "name": "stdout"
        }
      ]
    },
    {
      "metadata": {},
      "cell_type": "markdown",
      "source": "#### Write a Python function to calculate the square root of a number with appropriate restrictions"
    },
    {
      "metadata": {
        "trusted": true
      },
      "cell_type": "code",
      "source": "def sqrt(num):\n    assert num>=0 , \"It's imaginary\"\n    print(num**(1/2))\n    \nsqrt(-1)",
      "execution_count": 22,
      "outputs": [
        {
          "output_type": "error",
          "ename": "AssertionError",
          "evalue": "It's imaginary",
          "traceback": [
            "\u001b[0;31m---------------------------------------------------------------------------\u001b[0m",
            "\u001b[0;31mAssertionError\u001b[0m                            Traceback (most recent call last)",
            "\u001b[0;32m<ipython-input-22-cdd3bdae09e4>\u001b[0m in \u001b[0;36m<module>\u001b[0;34m()\u001b[0m\n\u001b[1;32m      3\u001b[0m     \u001b[0mprint\u001b[0m\u001b[0;34m(\u001b[0m\u001b[0mnum\u001b[0m\u001b[0;34m**\u001b[0m\u001b[0;34m(\u001b[0m\u001b[0;36m1\u001b[0m\u001b[0;34m/\u001b[0m\u001b[0;36m2\u001b[0m\u001b[0;34m)\u001b[0m\u001b[0;34m)\u001b[0m\u001b[0;34m\u001b[0m\u001b[0m\n\u001b[1;32m      4\u001b[0m \u001b[0;34m\u001b[0m\u001b[0m\n\u001b[0;32m----> 5\u001b[0;31m \u001b[0msqrt\u001b[0m\u001b[0;34m(\u001b[0m\u001b[0;34m-\u001b[0m\u001b[0;36m1\u001b[0m\u001b[0;34m)\u001b[0m\u001b[0;34m\u001b[0m\u001b[0m\n\u001b[0m",
            "\u001b[0;32m<ipython-input-22-cdd3bdae09e4>\u001b[0m in \u001b[0;36msqrt\u001b[0;34m(num)\u001b[0m\n\u001b[1;32m      1\u001b[0m \u001b[0;32mdef\u001b[0m \u001b[0msqrt\u001b[0m\u001b[0;34m(\u001b[0m\u001b[0mnum\u001b[0m\u001b[0;34m)\u001b[0m\u001b[0;34m:\u001b[0m\u001b[0;34m\u001b[0m\u001b[0m\n\u001b[0;32m----> 2\u001b[0;31m     \u001b[0;32massert\u001b[0m \u001b[0mnum\u001b[0m\u001b[0;34m>=\u001b[0m\u001b[0;36m0\u001b[0m \u001b[0;34m,\u001b[0m \u001b[0;34m\"It's imaginary\"\u001b[0m\u001b[0;34m\u001b[0m\u001b[0m\n\u001b[0m\u001b[1;32m      3\u001b[0m     \u001b[0mprint\u001b[0m\u001b[0;34m(\u001b[0m\u001b[0mnum\u001b[0m\u001b[0;34m**\u001b[0m\u001b[0;34m(\u001b[0m\u001b[0;36m1\u001b[0m\u001b[0;34m/\u001b[0m\u001b[0;36m2\u001b[0m\u001b[0;34m)\u001b[0m\u001b[0;34m)\u001b[0m\u001b[0;34m\u001b[0m\u001b[0m\n\u001b[1;32m      4\u001b[0m \u001b[0;34m\u001b[0m\u001b[0m\n\u001b[1;32m      5\u001b[0m \u001b[0msqrt\u001b[0m\u001b[0;34m(\u001b[0m\u001b[0;34m-\u001b[0m\u001b[0;36m1\u001b[0m\u001b[0;34m)\u001b[0m\u001b[0;34m\u001b[0m\u001b[0m\n",
            "\u001b[0;31mAssertionError\u001b[0m: It's imaginary"
          ]
        }
      ]
    },
    {
      "metadata": {},
      "cell_type": "markdown",
      "source": "#### Difference betweeen raise and assert"
    },
    {
      "metadata": {},
      "cell_type": "markdown",
      "source": "#### raise is used to raise an exception on our will\n\n#### assert is used to raise an exception on the basis of a given condition, used in debugging"
    },
    {
      "metadata": {},
      "cell_type": "markdown",
      "source": "### First class functions in Python"
    },
    {
      "metadata": {},
      "cell_type": "markdown",
      "source": "#### Functions are objects(can be assigned to variables)"
    },
    {
      "metadata": {
        "trusted": true
      },
      "cell_type": "code",
      "source": "def demo():\n    a=5\n    print('Hello')\ntst = demo\ntst_2 = tst\ntst_2()",
      "execution_count": 23,
      "outputs": [
        {
          "output_type": "stream",
          "text": "Hello\n",
          "name": "stdout"
        }
      ]
    },
    {
      "metadata": {},
      "cell_type": "markdown",
      "source": "#### Functions can be passed as arguments"
    },
    {
      "metadata": {
        "trusted": true
      },
      "cell_type": "code",
      "source": "def show_det(func):\n    print('Name of the given function is',func.__name__)\nshow_det(demo)",
      "execution_count": 24,
      "outputs": [
        {
          "output_type": "stream",
          "text": "Name of the given function is demo\n",
          "name": "stdout"
        }
      ]
    },
    {
      "metadata": {},
      "cell_type": "markdown",
      "source": "#### Functions can be returned by other functions"
    },
    {
      "metadata": {
        "scrolled": true,
        "trusted": true
      },
      "cell_type": "code",
      "source": "def call_demo():\n    return demo\n\ncall_demo()",
      "execution_count": 26,
      "outputs": [
        {
          "output_type": "execute_result",
          "execution_count": 26,
          "data": {
            "text/plain": "<function __main__.demo>"
          },
          "metadata": {}
        }
      ]
    },
    {
      "metadata": {},
      "cell_type": "markdown",
      "source": "### Function closure"
    },
    {
      "metadata": {},
      "cell_type": "markdown",
      "source": "#### global"
    },
    {
      "metadata": {
        "trusted": true
      },
      "cell_type": "code",
      "source": "num = 5\n\ndef demo():\n    num = 10\n    print(num)\n    \ndemo()\nprint(num)",
      "execution_count": 34,
      "outputs": [
        {
          "output_type": "stream",
          "text": "10\n5\n",
          "name": "stdout"
        }
      ]
    },
    {
      "metadata": {
        "trusted": true
      },
      "cell_type": "code",
      "source": "def global_demo():\n    global num\n    num = 10\n    print(num)\n    \nglobal_demo()\nprint(num)",
      "execution_count": 35,
      "outputs": [
        {
          "output_type": "stream",
          "text": "10\n10\n",
          "name": "stdout"
        }
      ]
    },
    {
      "metadata": {},
      "cell_type": "markdown",
      "source": "#### nonlocal"
    },
    {
      "metadata": {
        "trusted": true
      },
      "cell_type": "code",
      "source": "def demo():\n    num = 5\n    def wrapper():\n        num = 10\n        print(\"Wrapper:\",num)\n    wrapper()\n    print(\"Demo:\",num)\n\ndemo()",
      "execution_count": 36,
      "outputs": [
        {
          "output_type": "stream",
          "text": "Wrapper: 10\nDemo: 5\n",
          "name": "stdout"
        }
      ]
    },
    {
      "metadata": {
        "trusted": true
      },
      "cell_type": "code",
      "source": "def nonlocal_demo():\n    num = 5\n    def wrapper():\n        nonlocal num\n        num = 10\n        print(\"Wrapper:\",num)\n    wrapper()\n    print(\"Nonlocal_demo:\",num)\n\nnonlocal_demo()",
      "execution_count": 37,
      "outputs": [
        {
          "output_type": "stream",
          "text": "Wrapper: 10\nNonlocal_demo: 10\n",
          "name": "stdout"
        }
      ]
    },
    {
      "metadata": {},
      "cell_type": "markdown",
      "source": "#### Closures"
    },
    {
      "metadata": {
        "trusted": true
      },
      "cell_type": "code",
      "source": "def print_text(txt):\n    def helper():\n        return 'The text is {}'.format(txt)\n    return helper\n\nf = print_text('Testing')\nf()",
      "execution_count": 5,
      "outputs": [
        {
          "output_type": "execute_result",
          "execution_count": 5,
          "data": {
            "text/plain": "'The text is Testing'"
          },
          "metadata": {}
        }
      ]
    },
    {
      "metadata": {},
      "cell_type": "markdown",
      "source": "#### Three conditions for a closure\n1. Should be a nested function\n2. Should use a value from the higher function\n3. Should be returned by the higher function"
    },
    {
      "metadata": {},
      "cell_type": "markdown",
      "source": "#### Implement partial using function closure, *args and *kwargs"
    },
    {
      "metadata": {
        "trusted": true
      },
      "cell_type": "code",
      "source": "def my_partial(func, *given_args, **given_kwargs):\n    def wrapper(*more_args, **more_kwargs):\n        \n        args=*given_args,*more_args\n        kwargs={**given_kwargs,**more_kwargs}\n        return func(*args,**kwargs)\n    return wrapper",
      "execution_count": 6,
      "outputs": []
    },
    {
      "metadata": {
        "trusted": true
      },
      "cell_type": "code",
      "source": "def number_rep(th, hun, ten, ones):\n    return 1000 * th + 100 * hun + 10 * ten + ones\n\nonly_tens=my_partial(number_rep,3,4,ones=6)\nonly_tens(5)",
      "execution_count": 7,
      "outputs": [
        {
          "output_type": "execute_result",
          "execution_count": 7,
          "data": {
            "text/plain": "3456"
          },
          "metadata": {}
        }
      ]
    },
    {
      "metadata": {},
      "cell_type": "markdown",
      "source": "#### Implementing OOP using closures"
    },
    {
      "metadata": {
        "trusted": false
      },
      "cell_type": "code",
      "source": "def is_divisible(n):\n    def helper(x):\n        return x%n == 0\n    return helper\n\ndivisible_by_2 = is_divisible(2)\n# divisible_by_2(15)\ndivisble_by_3 = is_divisible(3)\ndivisble_by_3(10)",
      "execution_count": null,
      "outputs": []
    },
    {
      "metadata": {},
      "cell_type": "markdown",
      "source": "#### Using closures make a class like structure that stores a student's name and grade"
    },
    {
      "metadata": {
        "trusted": true
      },
      "cell_type": "code",
      "source": "def student(name,grade):\n    def helper():\n        print(name,grade)\n    return helper",
      "execution_count": 8,
      "outputs": []
    },
    {
      "metadata": {
        "trusted": true
      },
      "cell_type": "code",
      "source": "s=student(\"sai\",1)\ns()",
      "execution_count": 9,
      "outputs": [
        {
          "output_type": "stream",
          "text": "sai 1\n",
          "name": "stdout"
        }
      ]
    },
    {
      "metadata": {},
      "cell_type": "markdown",
      "source": "### Function Decorators\n#### Decorators are used to modify an existing function. This is known as metaprogramming"
    },
    {
      "metadata": {},
      "cell_type": "markdown",
      "source": "#### Decorator on a function without  arguments"
    },
    {
      "metadata": {
        "trusted": true
      },
      "cell_type": "code",
      "source": "def demo():\n    print('Demo function')\n    \n    \ndef my_deco(func):\n    \n    def wrapper():\n        print('my_deco is called on',func.__name__)\n        func()\n    \n    return wrapper\n\ndeco_demo = my_deco(demo)\ndeco_demo()\ndeco_demo.__name__",
      "execution_count": 2,
      "outputs": [
        {
          "output_type": "stream",
          "text": "my_deco is called on demo\nDemo function\n",
          "name": "stdout"
        },
        {
          "output_type": "execute_result",
          "execution_count": 2,
          "data": {
            "text/plain": "'wrapper'"
          },
          "metadata": {}
        }
      ]
    },
    {
      "metadata": {},
      "cell_type": "markdown",
      "source": "### Using @"
    },
    {
      "metadata": {
        "trusted": true
      },
      "cell_type": "code",
      "source": "def my_deco(func):\n    \n    def wrapper():\n        print('My deco is called on',func.__name__)\n        func()\n    \n    return wrapper\n\n@my_deco\ndef demo():\n    print('Demo function')\n    \n# @my_deco is same as\n# demo = my_deco(demo)\n\ndemo()",
      "execution_count": 1,
      "outputs": [
        {
          "output_type": "stream",
          "text": "My deco is called on demo\nDemo function\n",
          "name": "stdout"
        }
      ]
    },
    {
      "metadata": {},
      "cell_type": "markdown",
      "source": "#### Use of @wraps"
    },
    {
      "metadata": {},
      "cell_type": "markdown",
      "source": "#### Decorator on a function with arguments"
    },
    {
      "metadata": {
        "trusted": true
      },
      "cell_type": "code",
      "source": "def get_detail(func):\n    \n    def wrapper(*args, **kwargs):\n        print(\"Function name:\", func.__name__)\n        print(\"Arguments:\",args)\n        print(\"Keywords\", kwargs)\n        func(*args, **kwargs)\n    return wrapper\n\n@get_detail\ndef demo(a, b, c=4):\n    print('In the demo function')\n\ndemo(1,2,c=10)\nprint(demo.__name__)",
      "execution_count": 43,
      "outputs": [
        {
          "output_type": "stream",
          "text": "Function name: demo\nArguments: (1, 2)\nKeywords {'c': 10}\nIn the demo function\nwrapper\n",
          "name": "stdout"
        }
      ]
    },
    {
      "metadata": {},
      "cell_type": "markdown",
      "source": "#### How to make a parameterised decorator?"
    },
    {
      "metadata": {
        "scrolled": true,
        "trusted": true
      },
      "cell_type": "code",
      "source": "def arg_dec(num):\n    def real_dec(func):\n        def wrapper():\n            for i in range(num):\n                func()\n        return wrapper\n    return real_dec\n\n@arg_dec(5)\ndef demo():\n    print('hello')\nprint(demo.__name__)\ndemo()",
      "execution_count": 3,
      "outputs": [
        {
          "output_type": "stream",
          "text": "wrapper\nhello\nhello\nhello\nhello\nhello\n",
          "name": "stdout"
        }
      ]
    },
    {
      "metadata": {},
      "cell_type": "markdown",
      "source": "#### Write a decorator which prints n \"*\" before and after the function, n is passed as an argument in the decorator"
    },
    {
      "metadata": {
        "trusted": true
      },
      "cell_type": "code",
      "source": "def my_dec(n):\n    def realDec(func):\n        def wrapper():\n            print('*'*n)\n            func()\n            print('*'*n)\n        return wrapper\n    return realDec\n@my_dec(6)\ndef demo():\n    print(\"Hello\")\ndemo()",
      "execution_count": 50,
      "outputs": [
        {
          "output_type": "stream",
          "text": "******\nHello\n******\n",
          "name": "stdout"
        }
      ]
    },
    {
      "metadata": {},
      "cell_type": "markdown",
      "source": "#### Make a decorator which prints the time taken by a fuction to run"
    },
    {
      "metadata": {
        "trusted": true
      },
      "cell_type": "code",
      "source": "import time\n\ndef mydec(func):\n    def wrapper():\n        temp=time.time()\n        func()\n        print(time.time()-temp)\n    return wrapper\n\n@mydec\ndef demo():\n    for i in range(100):\n        pass\ndemo() ",
      "execution_count": 1,
      "outputs": [
        {
          "output_type": "stream",
          "text": "4.291534423828125e-06\n",
          "name": "stdout"
        }
      ]
    },
    {
      "metadata": {
        "trusted": true
      },
      "cell_type": "code",
      "source": "",
      "execution_count": null,
      "outputs": []
    }
  ],
  "metadata": {
    "kernelspec": {
      "name": "python3",
      "display_name": "Python 3",
      "language": "python"
    },
    "language_info": {
      "mimetype": "text/x-python",
      "nbconvert_exporter": "python",
      "name": "python",
      "pygments_lexer": "ipython3",
      "version": "3.5.4",
      "file_extension": ".py",
      "codemirror_mode": {
        "version": 3,
        "name": "ipython"
      }
    }
  },
  "nbformat": 4,
  "nbformat_minor": 2
}