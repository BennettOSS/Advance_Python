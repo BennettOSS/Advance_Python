{
 "cells": [
  {
   "cell_type": "markdown",
   "metadata": {},
   "source": [
    "#### Appending elements in list through basic list comprehension"
   ]
  },
  {
   "cell_type": "code",
   "execution_count": 19,
   "metadata": {},
   "outputs": [
    {
     "data": {
      "text/plain": [
       "[0, 1, 2, 3, 4, 5, 6, 7, 8, 9]"
      ]
     },
     "execution_count": 19,
     "metadata": {},
     "output_type": "execute_result"
    }
   ],
   "source": [
    "lst=[i for i in range(10)]\n",
    "lst"
   ]
  },
  {
   "cell_type": "code",
   "execution_count": 20,
   "metadata": {},
   "outputs": [],
   "source": [
    "#Trying to add all the elements in list through list comprehension.Since it works in one line, it will take last list as an \n",
    "#input to perform operation.So it won't be able to add all the elements at same time."
   ]
  },
  {
   "cell_type": "code",
   "execution_count": 21,
   "metadata": {},
   "outputs": [
    {
     "name": "stdout",
     "output_type": "stream",
     "text": [
      "[3, 7]\n",
      "10\n"
     ]
    }
   ],
   "source": [
    "x=0\n",
    "from functools import reduce\n",
    "numbers=[1,2,3,4]\n",
    "l=[numbers[i]+numbers[i+1] for i in range(len(numbers)) if i%2==0]\n",
    "print(l)\n",
    "\n",
    "\n",
    "##Reduce will add he given list\n",
    "a=reduce(lambda x,y:x+y,numbers)\n",
    "print(a)"
   ]
  },
  {
   "cell_type": "markdown",
   "metadata": {},
   "source": [
    "#### Passing list as an argument to find length of elements present in the list"
   ]
  },
  {
   "cell_type": "code",
   "execution_count": 22,
   "metadata": {},
   "outputs": [
    {
     "data": {
      "text/plain": [
       "[5, 5, 6]"
      ]
     },
     "execution_count": 22,
     "metadata": {},
     "output_type": "execute_result"
    }
   ],
   "source": [
    "def function(func,*args):\n",
    "    l=[]\n",
    "    for i in args:\n",
    "        l.append(func(i))\n",
    "    return l\n",
    "l1=[\"arjun\",\"hello\"]\n",
    "l2=[\"mohnot\"]\n",
    "function(len,*l1,*l2)"
   ]
  },
  {
   "cell_type": "markdown",
   "metadata": {},
   "source": [
    "#### Adding elements with same indices to one list."
   ]
  },
  {
   "cell_type": "code",
   "execution_count": 23,
   "metadata": {},
   "outputs": [
    {
     "name": "stdout",
     "output_type": "stream",
     "text": [
      "[5, 7, 9]\n"
     ]
    }
   ],
   "source": [
    "def my_map(func,*itrs):\n",
    "    return [func(*i) for i in zip(*itrs)]\n",
    "print(my_map(lambda x,y:x+y,[1,2,3],[4,5,6]))"
   ]
  },
  {
   "cell_type": "code",
   "execution_count": 24,
   "metadata": {},
   "outputs": [
    {
     "name": "stdout",
     "output_type": "stream",
     "text": [
      "((1, 4), (2, 5), (3, 6))\n"
     ]
    }
   ],
   "source": [
    "#Above idea is break down for better understanding \n",
    "def my_map(func,*itrs):\n",
    "    print(tuple(zip(*itrs)))\n",
    "my_map(lambda x,y:x+y,[1,2,3],[4,5,6])"
   ]
  },
  {
   "cell_type": "markdown",
   "metadata": {},
   "source": [
    "#### Implementing Union,intersection and difference through list comprehenssion"
   ]
  },
  {
   "cell_type": "code",
   "execution_count": 25,
   "metadata": {},
   "outputs": [
    {
     "name": "stdout",
     "output_type": "stream",
     "text": [
      "[1, 2, 3, 4, 5, 6]\n"
     ]
    }
   ],
   "source": [
    "def my_union(l1,l2):\n",
    "    return l1 + [i for i in l2 if i not in l1]\n",
    "print(my_union([1,2,3],[4,5,6]))"
   ]
  },
  {
   "cell_type": "code",
   "execution_count": 26,
   "metadata": {},
   "outputs": [
    {
     "name": "stdout",
     "output_type": "stream",
     "text": [
      "[1]\n"
     ]
    }
   ],
   "source": [
    "def my_intersection(l1,l2):\n",
    "    return [i for i in l1 if i in l2]\n",
    "print(my_intersection([1,2,3],[1,4,5,6]))"
   ]
  },
  {
   "cell_type": "code",
   "execution_count": 27,
   "metadata": {},
   "outputs": [
    {
     "name": "stdout",
     "output_type": "stream",
     "text": [
      "[1, 2, 3]\n"
     ]
    }
   ],
   "source": [
    "def my_difference(l1,l2):\n",
    "    return [i for i in l1 if i not in l2]\n",
    "print(my_difference([1,2,3,4],[4,5,6]))"
   ]
  },
  {
   "cell_type": "markdown",
   "metadata": {},
   "source": [
    "#### Maing Set using dictionary"
   ]
  },
  {
   "cell_type": "code",
   "execution_count": 28,
   "metadata": {},
   "outputs": [
    {
     "data": {
      "text/plain": [
       "dict_keys([1, 2, 3, 4, 5, 8])"
      ]
     },
     "execution_count": 28,
     "metadata": {},
     "output_type": "execute_result"
    }
   ],
   "source": [
    "list = [1, 2, 3, 4, 5, 8, 2, 4]\n",
    "dict = {i:None for i in list}\n",
    "dict.keys()"
   ]
  },
  {
   "cell_type": "markdown",
   "metadata": {},
   "source": [
    "#### Finding prime numbers through generator(yield)"
   ]
  },
  {
   "cell_type": "code",
   "execution_count": 29,
   "metadata": {},
   "outputs": [
    {
     "name": "stdout",
     "output_type": "stream",
     "text": [
      "[2, 3, 5, 7, 11, 13]\n"
     ]
    }
   ],
   "source": [
    "#generators\n",
    "def func(n):\n",
    "    for i in range(2,n+1):\n",
    "        flag=1\n",
    "        for j in range(2,i):\n",
    "            if i%j==0:\n",
    "                flag=0\n",
    "                break\n",
    "            else:\n",
    "                flag=1\n",
    "                continue\n",
    "        if flag==1:\n",
    "            yield i\n",
    "print([i for i in func(15)])\n",
    "        \n",
    "\n"
   ]
  },
  {
   "cell_type": "markdown",
   "metadata": {},
   "source": [
    "#### Implementation of map(),filter(),zip(),enumerate(),accumulate using generator"
   ]
  },
  {
   "cell_type": "code",
   "execution_count": 31,
   "metadata": {},
   "outputs": [
    {
     "name": "stdout",
     "output_type": "stream",
     "text": [
      "(3, 5, 7, 9)\n"
     ]
    }
   ],
   "source": [
    "#map\n",
    "def func1(funct,*args):\n",
    "    for i in zip(*args):\n",
    "        yield funct(*i)\n",
    "a=func1(lambda x,y:x+y,[1,2,3,4],[2,3,4,5])\n",
    "print(tuple(a))"
   ]
  },
  {
   "cell_type": "code",
   "execution_count": 32,
   "metadata": {},
   "outputs": [
    {
     "name": "stdout",
     "output_type": "stream",
     "text": [
      "((0, 1), (1, 2), (2, 3), (3, 4))\n"
     ]
    }
   ],
   "source": [
    "#enumerate\n",
    "string=\"\"\n",
    "def funct(string):\n",
    "    return len(string)-1\n",
    "\n",
    "def func2(funct,l1):\n",
    "    string=\"\"\n",
    "    for i in l1:\n",
    "        string+=str(i)\n",
    "        yield (funct(string),i)\n",
    "a=func2(funct,[1,2,3,4])\n",
    "print(tuple(a))"
   ]
  },
  {
   "cell_type": "code",
   "execution_count": 33,
   "metadata": {},
   "outputs": [
    {
     "name": "stdout",
     "output_type": "stream",
     "text": [
      "2\n",
      "4\n"
     ]
    }
   ],
   "source": [
    "#filter\n",
    "def func(i):\n",
    "    if i%2==0:\n",
    "        return True\n",
    "    else:\n",
    "        False\n",
    "def gen_filter(func,itr):\n",
    "    for i in itr:\n",
    "        if func(i):\n",
    "            yield i\n",
    "for i in gen_filter(func,[1,2,3,4]):\n",
    "    print(i)"
   ]
  },
  {
   "cell_type": "code",
   "execution_count": 34,
   "metadata": {},
   "outputs": [
    {
     "name": "stdout",
     "output_type": "stream",
     "text": [
      "('a', '1')\n",
      "('b', '2')\n",
      "('c', '3')\n"
     ]
    }
   ],
   "source": [
    "#zip\n",
    "def gen_zip(*itr):\n",
    "    cnt=-1\n",
    "    while True:\n",
    "        try:\n",
    "            cnt+=1\n",
    "            yield tuple([j[cnt] for j in itr])\n",
    "        except:\n",
    "            break\n",
    "for i in gen_zip('abc','1234'):\n",
    "    print(i)\n",
    "    "
   ]
  },
  {
   "cell_type": "code",
   "execution_count": 35,
   "metadata": {},
   "outputs": [
    {
     "name": "stdout",
     "output_type": "stream",
     "text": [
      "1\n",
      "3\n",
      "6\n",
      "10\n"
     ]
    }
   ],
   "source": [
    "#accumulate\n",
    "def func(i,c):\n",
    "    return i+c\n",
    "def gen_filter(func,itr):\n",
    "    counter=0\n",
    "    for i in itr:\n",
    "        counter=func(int(i),counter)\n",
    "        yield counter\n",
    "for i in gen_filter(func,'1234'):\n",
    "    print(i)\n"
   ]
  },
  {
   "cell_type": "markdown",
   "metadata": {},
   "source": [
    "#### Counting characters using dictionary using yield."
   ]
  },
  {
   "cell_type": "code",
   "execution_count": 36,
   "metadata": {},
   "outputs": [
    {
     "name": "stdout",
     "output_type": "stream",
     "text": [
      "{'a': 1, 'r': 1, 'j': 1, 'u': 1, 'n': 2, 'm': 1, 'o': 2, 'h': 1, 't': 1}\n"
     ]
    }
   ],
   "source": [
    "def f(d,l):\n",
    "    for i in range(len(l)):\n",
    "        if l[i] in d:\n",
    "            d[l[i]]+=1\n",
    "        else:\n",
    "            d[l[i]]=1\n",
    "    yield d\n",
    "for i in f({},\"arjunmohnot\"):\n",
    "    print(i)\n"
   ]
  },
  {
   "cell_type": "code",
   "execution_count": null,
   "metadata": {},
   "outputs": [],
   "source": []
  }
 ],
 "metadata": {
  "kernelspec": {
   "display_name": "Python 3",
   "language": "python",
   "name": "python3"
  },
  "language_info": {
   "codemirror_mode": {
    "name": "ipython",
    "version": 3
   },
   "file_extension": ".py",
   "mimetype": "text/x-python",
   "name": "python",
   "nbconvert_exporter": "python",
   "pygments_lexer": "ipython3",
   "version": "3.6.6"
  }
 },
 "nbformat": 4,
 "nbformat_minor": 2
}
