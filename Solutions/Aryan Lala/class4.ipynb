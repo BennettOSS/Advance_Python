{
  "cells": [
    {
      "metadata": {
        "trusted": true
      },
      "cell_type": "code",
      "source": "#Calculate the number of non-digit characters in a list using exception handling only\nlst = [1,2,4,'a',5,6,'v',1,'e','n',7,'2']\ncount=0\nfor i in lst:\n    try:\n        i=int(i)\n    except:\n        count+=1\n        \nprint(count)",
      "execution_count": 6,
      "outputs": [
        {
          "output_type": "stream",
          "text": "4\n",
          "name": "stdout"
        }
      ]
    },
    {
      "metadata": {
        "trusted": true
      },
      "cell_type": "code",
      "source": "#Write a Python function that takes only Armstrong number as input and raises error otherwis\nsum=0\ni=input()\nn=len(i)\n\nfor j in i:\n    sum+=int(j)**n\n\ntry:\n    int(i)==sum\n    print(int(i),\" is an armstrong no.\")\n    \nexcept:\n    raise ValueError(\"Armstrong number only\")",
      "execution_count": 8,
      "outputs": [
        {
          "output_type": "stream",
          "name": "stdout",
          "text": "153\n153  is an armstrong no.\n"
        }
      ]
    },
    {
      "metadata": {
        "trusted": true
      },
      "cell_type": "code",
      "source": "#try using function eval() for armstrong numbers",
      "execution_count": null,
      "outputs": []
    },
    {
      "metadata": {
        "trusted": true
      },
      "cell_type": "code",
      "source": "#Write a Python function to calculate the square root of a number with appropriate restrictions\nx=int(input(\"Enter the number: \"))\nassert x>=0,'Cannot be negative number'\nprint(x**0.5)",
      "execution_count": 10,
      "outputs": [
        {
          "output_type": "stream",
          "name": "stdout",
          "text": "Enter the number: -9\n"
        },
        {
          "output_type": "error",
          "ename": "AssertionError",
          "evalue": "Cannot be negative number",
          "traceback": [
            "\u001b[0;31m---------------------------------------------------------------------------\u001b[0m",
            "\u001b[0;31mAssertionError\u001b[0m                            Traceback (most recent call last)",
            "\u001b[0;32m<ipython-input-10-26413f8d9b24>\u001b[0m in \u001b[0;36m<module>\u001b[0;34m\u001b[0m\n\u001b[1;32m      1\u001b[0m \u001b[0;31m#Write a Python function to calculate the square root of a number with appropriate restrictions\u001b[0m\u001b[0;34m\u001b[0m\u001b[0;34m\u001b[0m\u001b[0m\n\u001b[1;32m      2\u001b[0m \u001b[0mx\u001b[0m\u001b[0;34m=\u001b[0m\u001b[0mint\u001b[0m\u001b[0;34m(\u001b[0m\u001b[0minput\u001b[0m\u001b[0;34m(\u001b[0m\u001b[0;34m\"Enter the number: \"\u001b[0m\u001b[0;34m)\u001b[0m\u001b[0;34m)\u001b[0m\u001b[0;34m\u001b[0m\u001b[0m\n\u001b[0;32m----> 3\u001b[0;31m \u001b[0;32massert\u001b[0m \u001b[0mx\u001b[0m\u001b[0;34m>=\u001b[0m\u001b[0;36m0\u001b[0m\u001b[0;34m,\u001b[0m\u001b[0;34m'Cannot be negative number'\u001b[0m\u001b[0;34m\u001b[0m\u001b[0m\n\u001b[0m\u001b[1;32m      4\u001b[0m \u001b[0mprint\u001b[0m\u001b[0;34m(\u001b[0m\u001b[0mx\u001b[0m\u001b[0;34m**\u001b[0m\u001b[0;36m0.5\u001b[0m\u001b[0;34m)\u001b[0m\u001b[0;34m\u001b[0m\u001b[0m\n",
            "\u001b[0;31mAssertionError\u001b[0m: Cannot be negative number"
          ]
        }
      ]
    },
    {
      "metadata": {
        "trusted": true
      },
      "cell_type": "code",
      "source": "#Implement partial using function closure, args and kwargs\n\nfrom functools import partial\n\ndef my_partial(func,*given_args,**given_kwargs):\n    def wrapper(*more_args,**more__kwargs):\n        \n        args= *given_args,*given_kwargs\n        kwargs={**more_args,**more__kwargs}\n        \n        return func(*args, **kwargs)\ndef pprint(a,b,c,d=0):\n    print(a,b,c)\n    print(d)\nmy_partial(1,2,3)",
      "execution_count": 11,
      "outputs": []
    },
    {
      "metadata": {
        "trusted": true
      },
      "cell_type": "code",
      "source": "#Using closures make a class like structure that stores a student's name and grade\ndef student(name):\n    def helper(grade):\n        return name,grade\n    return helper\n\ngrade=student(\"Aryan\")\nstu1=grade(9.8)\nstu1",
      "execution_count": 13,
      "outputs": [
        {
          "output_type": "execute_result",
          "execution_count": 13,
          "data": {
            "text/plain": "('Aryan', 9.8)"
          },
          "metadata": {}
        }
      ]
    },
    {
      "metadata": {
        "trusted": true
      },
      "cell_type": "code",
      "source": "#Write a decorator which prints n \"*\" before and after the function,\n#n is passed as an argument in the decorator\n\ndef take_n(n):\n    def pprint(func):\n        def wrapper():\n            print(n*\"*\")\n            func()\n            print(n*\"*\")\n        return wrapper\n    return pprint\n\n@take_n(8)\ndef fun():\n    print(\"Aryan\")\n    \nfun()",
      "execution_count": 14,
      "outputs": [
        {
          "output_type": "stream",
          "text": "********\nAryan\n********\n",
          "name": "stdout"
        }
      ]
    },
    {
      "metadata": {
        "trusted": true
      },
      "cell_type": "code",
      "source": "#Make a decorator which prints the time taken by a fuction to run\nimport datetime\nimport time\n\ndef time_deco(func):\n    def wrapper():\n        ct=datetime.datetime.now()\n        func()\n        print(datetime.datetime.now()-ct)\n    return wrapper\n\n@time_deco\ndef my_func():\n    print(\"func. started\")\n    time.sleep(0.5)\n    print(\"func. completed\")\n    \nmy_func()",
      "execution_count": 22,
      "outputs": [
        {
          "output_type": "stream",
          "text": "func. started\nfunc. completed\n0:00:00.501141\n",
          "name": "stdout"
        }
      ]
    },
    {
      "metadata": {
        "trusted": true
      },
      "cell_type": "code",
      "source": "",
      "execution_count": null,
      "outputs": []
    },
    {
      "metadata": {
        "trusted": true
      },
      "cell_type": "code",
      "source": "",
      "execution_count": null,
      "outputs": []
    }
  ],
  "metadata": {
    "kernelspec": {
      "name": "python36",
      "display_name": "Python 3.6",
      "language": "python"
    },
    "language_info": {
      "mimetype": "text/x-python",
      "nbconvert_exporter": "python",
      "name": "python",
      "pygments_lexer": "ipython3",
      "version": "3.6.6",
      "file_extension": ".py",
      "codemirror_mode": {
        "version": 3,
        "name": "ipython"
      }
    }
  },
  "nbformat": 4,
  "nbformat_minor": 2
}