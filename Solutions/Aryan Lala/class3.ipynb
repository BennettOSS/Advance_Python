{
  "cells": [
    {
      "metadata": {
        "trusted": true
      },
      "cell_type": "code",
      "source": "lst=[[1,2,3],[4,5,6],[7,8,9]]\nflat=[i for j in lst for i in j]\nprint(flat)",
      "execution_count": 3,
      "outputs": [
        {
          "output_type": "stream",
          "text": "[1, 2, 3, 4, 5, 6, 7, 8, 9]\n",
          "name": "stdout"
        }
      ]
    },
    {
      "metadata": {
        "trusted": true
      },
      "cell_type": "code",
      "source": "lst=list(range(10))\ndef my_map(func,*args):\n    return[func(*i) ]",
      "execution_count": null,
      "outputs": []
    },
    {
      "metadata": {
        "trusted": true
      },
      "cell_type": "code",
      "source": "#Implement union(), intersection() and difference()\nlst1=[1,2,3,4,5,6]\nlst2=[2,4,6,7,8]\n\nlst3=[i for i in lst1 if i in lst2]\nprint(lst3)\nlst4=[i for i in lst1 if i not in lst2]\nprint(lst4)\nlst5=lst1+[i for i in lst2 if i not in lst1]\nprint(lst5)",
      "execution_count": 27,
      "outputs": [
        {
          "output_type": "stream",
          "text": "[2, 4, 6]\n[1, 3, 5]\n[1, 2, 3, 4, 5, 6, 7, 8]\n",
          "name": "stdout"
        }
      ]
    },
    {
      "metadata": {
        "trusted": true
      },
      "cell_type": "code",
      "source": "#union using a function\ndef my_union(l1,l2):\n    return l1 +[i for i in l2 if i not in l1]\n\nlst1=[1,2,3,4,5,6]\nlst2=[2,4,6,7,8]\n\nprint(my_union(lst1,lst2))",
      "execution_count": 28,
      "outputs": [
        {
          "output_type": "stream",
          "text": "[1, 2, 3, 4, 5, 6, 7, 8]\n",
          "name": "stdout"
        }
      ]
    },
    {
      "metadata": {
        "trusted": true
      },
      "cell_type": "code",
      "source": "#Implement union(), intersection() and difference() \n#Accepting and returning dictionary - Either using functions or classes\ndit={1:[1,2,3],2:[3,4,5]}\ndef my_all(d):\n    n_dict={}\n    n_dict['union']=d[1]+[i for i in d[2] if i not in d[1]]\n    n_dict['intersection']=[i for i in d[1] if i in d[2]]\n    n_dict['difference']=[i for i in d[1] if i not in d[2]]\n    print(n_dict)\n    \nmy_all(dit)",
      "execution_count": 6,
      "outputs": [
        {
          "output_type": "stream",
          "text": "{'union': [1, 2, 3, 4, 5], 'intersection': [3], 'difference': [1, 2]}\n",
          "name": "stdout"
        }
      ]
    },
    {
      "metadata": {
        "trusted": true
      },
      "cell_type": "code",
      "source": "#Write a generator that generates prime numbers till n\nimport math\n\ndef my_prime(n):\n    for x in range(2,n+1):\n        flag=True\n        y=sqrt(x)\n        for i in range(2,y):\n            if(x%i==0):\n                flag=False\n                break\n        ",
      "execution_count": 8,
      "outputs": []
    },
    {
      "metadata": {
        "trusted": true
      },
      "cell_type": "code",
      "source": "#Implement any two of map(), filter(), zip(), enumerate() or accumulate() using generators\ndef gen_map(func,*itr):\n    for in zip(*itr):\n        yield func(*i)\n        \ndef gen_filter(func,itr):\n    for in itr:\n        if func(i):\n            yield i\n\ndef gen_zip(*itr):\n    cnt=-1\n    while True:\n        try:\n            cnt+1\n            yield tuple(j[cnt] for j in itr)\n        except:\n            break\n",
      "execution_count": null,
      "outputs": []
    },
    {
      "metadata": {
        "trusted": true
      },
      "cell_type": "code",
      "source": "#Write a function that counts the elements in an iterable and returns a dictionary\n#func(\"test\") = {'t':2, 'e':1, 's':1}\n\ndef my_count(x):\n    dct={}\n    for i in x:\n        dct[i]=dct.get(i,0)+1\n    print(dct)",
      "execution_count": null,
      "outputs": []
    }
  ],
  "metadata": {
    "kernelspec": {
      "name": "python36",
      "display_name": "Python 3.6",
      "language": "python"
    },
    "language_info": {
      "mimetype": "text/x-python",
      "nbconvert_exporter": "python",
      "name": "python",
      "pygments_lexer": "ipython3",
      "version": "3.6.6",
      "file_extension": ".py",
      "codemirror_mode": {
        "version": 3,
        "name": "ipython"
      }
    }
  },
  "nbformat": 4,
  "nbformat_minor": 2
}