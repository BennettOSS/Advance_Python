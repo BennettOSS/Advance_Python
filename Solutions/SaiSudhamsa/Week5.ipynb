{
 "cells": [
  {
   "cell_type": "markdown",
   "metadata": {},
   "source": [
    "#### Calculating time taken by the program"
   ]
  },
  {
   "cell_type": "code",
   "execution_count": 1,
   "metadata": {},
   "outputs": [
    {
     "name": "stdout",
     "output_type": "stream",
     "text": [
      "2019-04-01 21:45:37.166605\n",
      "0:00:00.001608\n"
     ]
    }
   ],
   "source": [
    "from datetime import datetime as dt\n",
    "\n",
    "ct = dt.now()\n",
    "print(ct)\n",
    "# Code here\n",
    "print(dt.now() - ct)"
   ]
  },
  {
   "cell_type": "code",
   "execution_count": 9,
   "metadata": {},
   "outputs": [
    {
     "name": "stdout",
     "output_type": "stream",
     "text": [
      "44450775\n"
     ]
    }
   ],
   "source": [
    "import time\n",
    "\n",
    "ct = time.process_time_ns()\n",
    "for _ in range(1000000):\n",
    "    pass\n",
    "print((time.process_time_ns() - ct))\n"
   ]
  },
  {
   "cell_type": "code",
   "execution_count": 8,
   "metadata": {},
   "outputs": [
    {
     "data": {
      "text/plain": [
       "0.42006790500090574"
      ]
     },
     "execution_count": 8,
     "metadata": {},
     "output_type": "execute_result"
    }
   ],
   "source": [
    "import timeit\n",
    "\n",
    "pre = '''import time'''\n",
    "code = '''\n",
    "for i in range(10**6):\n",
    "    pass\n",
    "\n",
    "'''\n",
    "timeit.timeit(setup=pre, stmt=code, number=20, globals=globals())"
   ]
  },
  {
   "cell_type": "code",
   "execution_count": 10,
   "metadata": {},
   "outputs": [
    {
     "data": {
      "text/plain": [
       "82449098"
      ]
     },
     "execution_count": 10,
     "metadata": {},
     "output_type": "execute_result"
    }
   ],
   "source": [
    "import time\n",
    "code = '''\n",
    "for i in range(10**6):\n",
    "    pass\n",
    "'''\n",
    "timeit.timeit(stmt=code, number=3, timer=time.process_time_ns)"
   ]
  },
  {
   "cell_type": "markdown",
   "metadata": {},
   "source": [
    "#### Write a decorator that shows the nanoseconds taken by a fuction to run"
   ]
  },
  {
   "cell_type": "code",
   "execution_count": 25,
   "metadata": {},
   "outputs": [
    {
     "name": "stdout",
     "output_type": "stream",
     "text": [
      "my_func executed\n",
      "Time of execution = 862784\n"
     ]
    }
   ],
   "source": [
    "import time\n",
    "def deco(func):\n",
    "    def wrap():\n",
    "        ct=time.process_time_ns()\n",
    "        func()\n",
    "        print(\"Time of execution =\",time.process_time_ns()-ct)\n",
    "    return wrap\n",
    "\n",
    "@deco\n",
    "def my_func():\n",
    "    for i in range(100):\n",
    "        pass\n",
    "    print(\"my_func executed\")\n",
    "my_func()"
   ]
  },
  {
   "cell_type": "code",
   "execution_count": 2,
   "metadata": {},
   "outputs": [
    {
     "name": "stdout",
     "output_type": "stream",
     "text": [
      "         76 function calls in 1.000 seconds\n",
      "\n",
      "   Ordered by: standard name\n",
      "\n",
      "   ncalls  tottime  percall  cumtime  percall filename:lineno(function)\n",
      "        1    0.000    0.000    1.000    1.000 <ipython-input-2-9d6837888748>:10(<module>)\n",
      "        5    0.000    0.000    0.999    0.200 <ipython-input-2-9d6837888748>:11(<listcomp>)\n",
      "        1    0.000    0.000    0.000    0.000 <ipython-input-2-9d6837888748>:12(<module>)\n",
      "       50    0.999    0.020    0.999    0.020 <ipython-input-2-9d6837888748>:3(add)\n",
      "        2    0.000    0.000    0.000    0.000 codeop.py:132(__call__)\n",
      "        2    0.000    0.000    0.000    0.000 hooks.py:142(__call__)\n",
      "        2    0.000    0.000    0.000    0.000 hooks.py:207(pre_run_code_hook)\n",
      "        2    0.000    0.000    0.000    0.000 interactiveshell.py:116(<lambda>)\n",
      "        2    0.000    0.000    0.000    0.000 interactiveshell.py:1266(user_global_ns)\n",
      "        2    0.000    0.000    1.000    0.500 interactiveshell.py:3254(run_code)\n",
      "        2    0.000    0.000    0.000    0.000 ipstruct.py:125(__getattr__)\n",
      "        2    0.000    0.000    0.000    0.000 {built-in method builtins.compile}\n",
      "        2    0.000    0.000    1.000    0.500 {built-in method builtins.exec}\n",
      "        1    0.000    0.000    0.000    0.000 {method 'disable' of '_lsprof.Profiler' objects}\n",
      "\n",
      "\n"
     ]
    }
   ],
   "source": [
    "import cProfile\n",
    "\n",
    "def add(a, b):\n",
    "    for _ in range(1000000):\n",
    "        pass\n",
    "    return a + b\n",
    "\n",
    "prof = cProfile.Profile()\n",
    "prof.enable()\n",
    "for _ in range(5):\n",
    "    [add(i, i*2) for i in range(10)]\n",
    "prof.disable()\n",
    "prof.print_stats()"
   ]
  },
  {
   "cell_type": "markdown",
   "metadata": {},
   "source": [
    "## Memoization\n",
    "###### Memoization allows you to optimize a function by caching its output based on the parameters you supply to it. Once you memoize a function, it will only compute its output once for each set of parameters you call it with. Every call after the first will be quickly retrieved from a cache."
   ]
  },
  {
   "cell_type": "code",
   "execution_count": 4,
   "metadata": {},
   "outputs": [],
   "source": [
    "import timeit\n",
    "\n",
    "def fibonacci(k):\n",
    "   if k==0:\n",
    "    return 0\n",
    "   if k==1:\n",
    "    return 1\n",
    "   else:\n",
    "    return fibonacci(k-1) + fibonacci(k-2)\n"
   ]
  },
  {
   "cell_type": "code",
   "execution_count": 10,
   "metadata": {},
   "outputs": [
    {
     "data": {
      "text/plain": [
       "3.4305048840033123"
      ]
     },
     "execution_count": 10,
     "metadata": {},
     "output_type": "execute_result"
    }
   ],
   "source": [
    "timeit.timeit(stmt ='fibonacci(35)', number = 1, globals = globals())"
   ]
  },
  {
   "cell_type": "markdown",
   "metadata": {},
   "source": [
    "### Writing a function decorator for memoization "
   ]
  },
  {
   "cell_type": "code",
   "execution_count": 11,
   "metadata": {},
   "outputs": [],
   "source": [
    "def memoization(func):\n",
    "    cache = {}\n",
    "    def wrapper(*args):\n",
    "        if args in cache:\n",
    "            return cache[args]\n",
    "        else:\n",
    "            res = func(*args)\n",
    "            cache[args] = res\n",
    "            return res\n",
    "    return wrapper"
   ]
  },
  {
   "cell_type": "code",
   "execution_count": 15,
   "metadata": {},
   "outputs": [
    {
     "name": "stdout",
     "output_type": "stream",
     "text": [
      "0.045252593998156954\n",
      "0.327621447002457\n",
      "{(25,): 75025, (30,): 832040}\n"
     ]
    }
   ],
   "source": [
    "# Running fibonacci(30) for the first time\n",
    "memoized = memoization(fibonacci)\n",
    "\n",
    "print(timeit.timeit('memoized(25)', globals = globals(), number = 1))\n",
    "\n",
    "print(timeit.timeit('memoized(30)', globals = globals(), number = 1))\n",
    "print(memoized.__closure__[0].cell_contents)"
   ]
  },
  {
   "cell_type": "code",
   "execution_count": 16,
   "metadata": {},
   "outputs": [
    {
     "name": "stdout",
     "output_type": "stream",
     "text": [
      "<function fibonacci at 0x7ff005155c80>\n"
     ]
    }
   ],
   "source": [
    "print(memoized.__closure__[1].cell_contents)"
   ]
  },
  {
   "cell_type": "markdown",
   "metadata": {},
   "source": [
    "### Using a built-in decorator for memoization"
   ]
  },
  {
   "cell_type": "code",
   "execution_count": 17,
   "metadata": {},
   "outputs": [
    {
     "name": "stdout",
     "output_type": "stream",
     "text": [
      "1.5060002624522895e-05\n",
      "7.932799780974165e-05\n",
      "8.291999984066933e-05\n",
      "0.0005404839976108633\n"
     ]
    },
    {
     "data": {
      "text/plain": [
       "CacheInfo(hits=501, misses=501, maxsize=512, currsize=501)"
      ]
     },
     "execution_count": 17,
     "metadata": {},
     "output_type": "execute_result"
    }
   ],
   "source": [
    "from functools import lru_cache\n",
    "\n",
    "@lru_cache(maxsize = 512)\n",
    "def fibonacci(k):\n",
    "   if k==0:\n",
    "    return 0\n",
    "   if k==1:\n",
    "    return 1\n",
    "   else:\n",
    "    return fibonacci(k-1) + fibonacci(k-2)\n",
    "\n",
    "print(timeit.timeit('fibonacci(10)', globals = globals(), number = 1))\n",
    "\n",
    "print(timeit.timeit('fibonacci(75)', globals = globals(), number = 1))\n",
    "\n",
    "print(timeit.timeit('fibonacci(150)', globals = globals(), number = 1))\n",
    "\n",
    "print(timeit.timeit('fibonacci(500)', globals = globals(), number = 1))\n",
    "\n",
    "fibonacci.cache_info()"
   ]
  },
  {
   "cell_type": "markdown",
   "metadata": {},
   "source": [
    "### Where to use Memoization ?"
   ]
  },
  {
   "cell_type": "markdown",
   "metadata": {},
   "source": [
    "### namedtuples\n",
    "###### namedtuples are just like tuples with the difference being you can access the data using indexes or field names\n",
    "###### namedtuple are immutable just like tuples"
   ]
  },
  {
   "cell_type": "code",
   "execution_count": 20,
   "metadata": {},
   "outputs": [],
   "source": [
    "from collections import namedtuple\n",
    "Student = namedtuple('Stu',['grade', 'roll_no'])"
   ]
  },
  {
   "cell_type": "code",
   "execution_count": 21,
   "metadata": {},
   "outputs": [
    {
     "name": "stdout",
     "output_type": "stream",
     "text": [
      "9.8 9.8 9.8\n"
     ]
    }
   ],
   "source": [
    "stud_1 = Student(9.8,1145)\n",
    "print(stud_1.grade, stud_1[0], getattr(stud_1, 'grade'))"
   ]
  },
  {
   "cell_type": "code",
   "execution_count": 23,
   "metadata": {},
   "outputs": [
    {
     "ename": "AttributeError",
     "evalue": "can't set attribute",
     "output_type": "error",
     "traceback": [
      "\u001b[0;31m---------------------------------------------------------------------------\u001b[0m",
      "\u001b[0;31mAttributeError\u001b[0m                            Traceback (most recent call last)",
      "\u001b[0;32m<ipython-input-23-2cbe4e683c7e>\u001b[0m in \u001b[0;36m<module>\u001b[0;34m\u001b[0m\n\u001b[0;32m----> 1\u001b[0;31m \u001b[0mstud_1\u001b[0m\u001b[0;34m.\u001b[0m\u001b[0mgrade\u001b[0m \u001b[0;34m=\u001b[0m \u001b[0;36m9.5\u001b[0m\u001b[0;34m\u001b[0m\u001b[0;34m\u001b[0m\u001b[0m\n\u001b[0m",
      "\u001b[0;31mAttributeError\u001b[0m: can't set attribute"
     ]
    }
   ],
   "source": [
    "stud_1.grade = 9.5"
   ]
  },
  {
   "cell_type": "markdown",
   "metadata": {},
   "source": [
    "#### Built-in methods for namedtuple\n",
    "###### _asdict() - Returns the namedtuple as an OrderedDict"
   ]
  },
  {
   "cell_type": "code",
   "execution_count": 24,
   "metadata": {},
   "outputs": [
    {
     "data": {
      "text/plain": [
       "OrderedDict([('grade', 9.8), ('roll_no', 1145)])"
      ]
     },
     "execution_count": 24,
     "metadata": {},
     "output_type": "execute_result"
    }
   ],
   "source": [
    "stud_1._asdict()"
   ]
  },
  {
   "cell_type": "markdown",
   "metadata": {},
   "source": [
    "###### _fields() - Returns all the fields of the namedtuple"
   ]
  },
  {
   "cell_type": "code",
   "execution_count": 25,
   "metadata": {},
   "outputs": [
    {
     "data": {
      "text/plain": [
       "('grade', 'roll_no')"
      ]
     },
     "execution_count": 25,
     "metadata": {},
     "output_type": "execute_result"
    }
   ],
   "source": [
    "stud_1._fields"
   ]
  },
  {
   "cell_type": "markdown",
   "metadata": {},
   "source": [
    "###### _replace() - Replaces the value of a given field (Only way to change values in namedtuple)"
   ]
  },
  {
   "cell_type": "code",
   "execution_count": 26,
   "metadata": {},
   "outputs": [
    {
     "data": {
      "text/plain": [
       "Stu(grade=9.8, roll_no=1000)"
      ]
     },
     "execution_count": 26,
     "metadata": {},
     "output_type": "execute_result"
    }
   ],
   "source": [
    "stud_1._replace(roll_no= 1000)"
   ]
  },
  {
   "cell_type": "code",
   "execution_count": 36,
   "metadata": {},
   "outputs": [
    {
     "data": {
      "text/plain": [
       "Stu(grade=9.8, roll_no=1145)"
      ]
     },
     "execution_count": 36,
     "metadata": {},
     "output_type": "execute_result"
    }
   ],
   "source": [
    "stud_1"
   ]
  },
  {
   "cell_type": "markdown",
   "metadata": {},
   "source": [
    "###### _make() - Returns a namedtuple from a iterable"
   ]
  },
  {
   "cell_type": "code",
   "execution_count": 27,
   "metadata": {},
   "outputs": [
    {
     "data": {
      "text/plain": [
       "Stu(grade=8.5, roll_no=1455)"
      ]
     },
     "execution_count": 27,
     "metadata": {},
     "output_type": "execute_result"
    }
   ],
   "source": [
    "values = [8.5, 1455]\n",
    "stud_2 = Student._make(values)\n",
    "stud_2"
   ]
  },
  {
   "cell_type": "markdown",
   "metadata": {},
   "source": [
    "#### Extending classes with namedtuples\n",
    "###### Methods can be added to namedtuples by extending it with a class"
   ]
  },
  {
   "cell_type": "code",
   "execution_count": 37,
   "metadata": {},
   "outputs": [],
   "source": [
    "class AddCategories(Student):\n",
    "    def getCategory(self):\n",
    "        if self.grade == 10:\n",
    "            return 'A+'\n",
    "        elif self.grade > 9:\n",
    "            return 'A'\n",
    "        else:\n",
    "            return 'B'\n"
   ]
  },
  {
   "cell_type": "code",
   "execution_count": 38,
   "metadata": {},
   "outputs": [
    {
     "name": "stdout",
     "output_type": "stream",
     "text": [
      "A\n",
      "B\n"
     ]
    }
   ],
   "source": [
    "cat_1 = AddCategories(9.8,1142)\n",
    "print(cat_1.getCategory())\n",
    "cat_2 = AddCategories(*stud_2)\n",
    "print(cat_2.getCategory())"
   ]
  },
  {
   "cell_type": "markdown",
   "metadata": {},
   "source": [
    "### Logging\n",
    "#### Logging is a method by which each and every line of the code can be monitored and their status saved for debugging or record keeping.\n",
    "### Logging has 5 levels, in increasing order of severity,\n",
    " ###### 1. Debug\n",
    " ###### 2. Info\n",
    " ###### 3. Warning\n",
    " ###### 4. Error\n",
    " ###### 5. Crirtical\n",
    " \n",
    "### Logging mode is decided by the user depending on the use, all the levels equal to or greater than the selected level will be logged. By default, the logging mode is Warning."
   ]
  },
  {
   "cell_type": "code",
   "execution_count": 2,
   "metadata": {},
   "outputs": [
    {
     "data": {
      "text/plain": [
       "<module 'logging' from '/home/sudhamsa/anaconda3/lib/python3.7/logging/__init__.py'>"
      ]
     },
     "execution_count": 2,
     "metadata": {},
     "output_type": "execute_result"
    }
   ],
   "source": [
    "import logging\n",
    "from importlib import reload\n",
    "reload(logging)"
   ]
  },
  {
   "cell_type": "code",
   "execution_count": 4,
   "metadata": {},
   "outputs": [],
   "source": [
    "logging.basicConfig(level=logging.ERROR,\n",
    "                    filename=\"log-test.log\", filemode=\"w\",\n",
    "                    format='%(process)d - %(levelname)s - %(asctime)s - %(message)s')\n",
    "logging.debug('This is a debug message')\n",
    "logging.info('This is a info message')\n",
    "logging.basicConfig(level=logging.DEBUG)\n",
    "logging.warning('This is a warning message', exc_info=True)\n",
    "logging.error('This is an error message')\n",
    "logging.critical('This is a critical message')\n",
    "logging.debug('This is a debug message')"
   ]
  },
  {
   "cell_type": "markdown",
   "metadata": {},
   "source": [
    "### Important\n",
    "#### basicConfig method is made to run only once, so you can't change logging level anywhere in between, therefore you should use the basicConfig method before logging anything because all the logging methods, viz. logging.debug(), logging.info(), etc, call basicConfig method internally, so if anything is logged, you can't configure basicConfig() anymore until you reset the root handlers."
   ]
  },
  {
   "cell_type": "markdown",
   "metadata": {},
   "source": [
    "## PEP 8\n",
    "[A Guide to PEP8](https://realpython.com/python-pep8/)"
   ]
  },
  {
   "cell_type": "code",
   "execution_count": 26,
   "metadata": {},
   "outputs": [],
   "source": [
    "import this"
   ]
  },
  {
   "cell_type": "code",
   "execution_count": 1,
   "metadata": {},
   "outputs": [],
   "source": [
    "import antigravity"
   ]
  }
 ],
 "metadata": {
  "kernelspec": {
   "display_name": "Python 3",
   "language": "python",
   "name": "python3"
  },
  "language_info": {
   "codemirror_mode": {
    "name": "ipython",
    "version": 3
   },
   "file_extension": ".py",
   "mimetype": "text/x-python",
   "name": "python",
   "nbconvert_exporter": "python",
   "pygments_lexer": "ipython3",
   "version": "3.7.2"
  }
 },
 "nbformat": 4,
 "nbformat_minor": 2
}
