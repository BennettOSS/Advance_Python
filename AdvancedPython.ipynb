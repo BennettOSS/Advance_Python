{
 "cells": [
  {
   "cell_type": "code",
   "execution_count": 23,
   "metadata": {},
   "outputs": [
    {
     "name": "stdout",
     "output_type": "stream",
     "text": [
      "[0, 2, 0, 4, 4, 1, 0]\n",
      "['180z*2', '308z*2', '220z*2', '296z*2', '356z*2', '304z*2', '220z*2']\n",
      "[270, 462, 330, 444, 534, 456, 330]\n"
     ]
    }
   ],
   "source": [
    "num=[45,77,55,74,89,76,55]\n",
    "print(list(map(lambda x:x%5,num )))\n",
    "print(list(map(lambda x,y,z,a:str(x*2+y*2)+\"z*2\",num,num,num,num)))\n",
    "print(list(map(lambda x,y,z:x*2+y*2+z*2,num,num,num)))"
   ]
  },
  {
   "cell_type": "code",
   "execution_count": 24,
   "metadata": {},
   "outputs": [
    {
     "name": "stdout",
     "output_type": "stream",
     "text": [
      "1 4\n",
      "['1', '4']\n",
      "1\n",
      "4\n"
     ]
    }
   ],
   "source": [
    "lst=input().strip().split()\n",
    "print(lst)\n",
    "n,k=list(map(int,lst))\n",
    "print(n)\n",
    "print(k)"
   ]
  },
  {
   "cell_type": "code",
   "execution_count": 25,
   "metadata": {},
   "outputs": [
    {
     "name": "stdout",
     "output_type": "stream",
     "text": [
      "[4, 2, 3]\n"
     ]
    }
   ],
   "source": [
    "words=[\"test\",\"go\",\"hek\"]\n",
    "def my_map(func,itr):\n",
    "    ret_lst=[]\n",
    "    for i in itr:\n",
    "        ret_lst.append(func(i))\n",
    "    return ret_lst\n",
    "print(my_map(len,words))"
   ]
  },
  {
   "cell_type": "code",
   "execution_count": 26,
   "metadata": {},
   "outputs": [
    {
     "name": "stdout",
     "output_type": "stream",
     "text": [
      "test\n",
      "go\n",
      "hek\n"
     ]
    },
    {
     "data": {
      "text/plain": [
       "['test', 'go']"
      ]
     },
     "execution_count": 26,
     "metadata": {},
     "output_type": "execute_result"
    }
   ],
   "source": [
    "def odd(a):\n",
    "    print(a)\n",
    "    if(len(a)%2==0):\n",
    "        return True\n",
    "    else:\n",
    "        return False\n",
    "list(filter(odd,words))"
   ]
  },
  {
   "cell_type": "code",
   "execution_count": 27,
   "metadata": {},
   "outputs": [
    {
     "data": {
      "text/plain": [
       "'testgohekasdqwwerttyzxcvdfghjdfg'"
      ]
     },
     "execution_count": 27,
     "metadata": {},
     "output_type": "execute_result"
    }
   ],
   "source": [
    "from functools import reduce\n",
    "words=[\"test\",\"go\",\"hek\",\"asd\",\"qwwertty\",\"zxcv\",\"dfghj\",\"dfg\"]\n",
    "new=reduce(lambda x,y:x+y,words)\n",
    "new #here we take two elements(x,y) as we need our list to be traversed one by one if the number of elemnts given are missing then it raises errors  "
   ]
  },
  {
   "cell_type": "code",
   "execution_count": 28,
   "metadata": {},
   "outputs": [],
   "source": [
    "from functools import partial\n",
    "def mul(a,b,c):\n",
    "    return(a*b*c)\n"
   ]
  },
  {
   "cell_type": "code",
   "execution_count": 29,
   "metadata": {},
   "outputs": [
    {
     "name": "stdout",
     "output_type": "stream",
     "text": [
      "750\n"
     ]
    },
    {
     "data": {
      "text/plain": [
       "15000"
      ]
     },
     "execution_count": 29,
     "metadata": {},
     "output_type": "execute_result"
    }
   ],
   "source": [
    "one=partial(mul,a=10,b=15)\n",
    "print(one(c=5))\n",
    "one(c=100)"
   ]
  },
  {
   "cell_type": "code",
   "execution_count": 30,
   "metadata": {},
   "outputs": [
    {
     "name": "stdout",
     "output_type": "stream",
     "text": [
      "('I', 'LOL')\n",
      "('am', 'LOL')\n",
      "('best', 'LOL')\n"
     ]
    }
   ],
   "source": [
    "a=[\"I\",\"am\",\"best\"]\n",
    "b=[\"LOL\",\"LOL\",\"LOL\"]\n",
    "a=(zip(a,b))\n",
    "\n",
    "for i in a :\n",
    "    print(i)"
   ]
  },
  {
   "cell_type": "code",
   "execution_count": 31,
   "metadata": {},
   "outputs": [
    {
     "name": "stdout",
     "output_type": "stream",
     "text": [
      "0 at index ('I', 'LOL')\n",
      "1 at index ('am', 'LOL')\n",
      "2 at index ('best', 'LOL')\n"
     ]
    }
   ],
   "source": [
    "a=[\"I\",\"am\",\"best\"]\n",
    "b=[\"LOL\",\"LOL\",\"LOL\"]\n",
    "a=(zip(a,b))\n",
    "for i,j in enumerate(a):\n",
    "    print(i,\"at index\",j)"
   ]
  },
  {
   "cell_type": "code",
   "execution_count": 32,
   "metadata": {},
   "outputs": [
    {
     "name": "stdout",
     "output_type": "stream",
     "text": [
      "('I', 'LOL') at index 10\n",
      "('am', 'LOL') at index 11\n",
      "('best', 'LOL') at index 12\n"
     ]
    }
   ],
   "source": [
    "a=[\"I\",\"am\",\"best\"]\n",
    "b=[\"LOL\",\"LOL\",\"LOL\"]\n",
    "a=(zip(a,b))\n",
    "for i,j in enumerate(a,10):\n",
    "    print(j,\"at index\",i)"
   ]
  },
  {
   "cell_type": "code",
   "execution_count": 33,
   "metadata": {},
   "outputs": [
    {
     "data": {
      "text/plain": [
       "[('I', 'LOL'), ('am', 'LOL'), ('best', 'LOL')]"
      ]
     },
     "execution_count": 33,
     "metadata": {},
     "output_type": "execute_result"
    }
   ],
   "source": [
    "a=[\"I\",\"am\",\"best\"]\n",
    "b=[\"LOL\",\"LOL\",\"LOL\"]\n",
    "a=(zip(a,b))\n",
    "list(a)"
   ]
  },
  {
   "cell_type": "code",
   "execution_count": 34,
   "metadata": {},
   "outputs": [
    {
     "name": "stdout",
     "output_type": "stream",
     "text": [
      "('I', 'LOL') at index 10\n",
      "('am', 'LOL') at index 11\n",
      "('best', 'LOL') at index 12\n"
     ]
    }
   ],
   "source": [
    "a=[\"I\",\"am\",\"best\"]\n",
    "b=[\"LOL\",\"LOL\",\"LOL\"]\n",
    "a=(zip(a,b))\n",
    "for i,j in enumerate(a,10):\n",
    "    print(j,\"at index\",i)\n",
    "for i,j in enumerate(a,10):\n",
    "    print(j,\"at index\",i)"
   ]
  },
  {
   "cell_type": "code",
   "execution_count": 35,
   "metadata": {},
   "outputs": [
    {
     "name": "stdout",
     "output_type": "stream",
     "text": [
      "There\n",
      "are\n",
      "seven\n",
      "wonders\n"
     ]
    }
   ],
   "source": [
    "a=[\"There\",\"are\",\"seven\",\"wonders\"]\n",
    "a=iter(a)\n",
    "for i in a:\n",
    "    print(i)\n",
    "for i in a :#Not printed\n",
    "    print(i)"
   ]
  },
  {
   "cell_type": "code",
   "execution_count": null,
   "metadata": {},
   "outputs": [],
   "source": []
  },
  {
   "cell_type": "code",
   "execution_count": null,
   "metadata": {},
   "outputs": [],
   "source": []
  }
 ],
 "metadata": {
  "kernelspec": {
   "display_name": "Python 3",
   "language": "python",
   "name": "python3"
  },
  "language_info": {
   "codemirror_mode": {
    "name": "ipython",
    "version": 3
   },
   "file_extension": ".py",
   "mimetype": "text/x-python",
   "name": "python",
   "nbconvert_exporter": "python",
   "pygments_lexer": "ipython3",
   "version": "3.7.0"
  }
 },
 "nbformat": 4,
 "nbformat_minor": 2
}
