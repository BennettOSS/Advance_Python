{
 "cells": [
  {
   "cell_type": "markdown",
   "metadata": {},
   "source": [
    "#### Calculating time taken by the program"
   ]
  },
  {
   "cell_type": "code",
   "execution_count": null,
   "metadata": {},
   "outputs": [],
   "source": [
    "from datetime import datetime as dt\n",
    "\n",
    "ct = dt.now()\n",
    "# Code here\n",
    "print(dt.now() - ct)"
   ]
  },
  {
   "cell_type": "code",
   "execution_count": null,
   "metadata": {},
   "outputs": [],
   "source": [
    "import time\n",
    "\n",
    "ct = time.process_time_ns()\n",
    "for _ in range(1000000):\n",
    "    pass\n",
    "print((time.process_time_ns() - ct))\n"
   ]
  },
  {
   "cell_type": "code",
   "execution_count": null,
   "metadata": {},
   "outputs": [],
   "source": [
    "import timeit\n",
    "\n",
    "pre = '''import time'''\n",
    "code = '''\n",
    "for i in range(10**6):\n",
    "    pass\n",
    "\n",
    "'''\n",
    "timeit.timeit(setup=pre, stmt=code, number=3, globals=globals())"
   ]
  },
  {
   "cell_type": "code",
   "execution_count": null,
   "metadata": {},
   "outputs": [],
   "source": [
    "import time\n",
    "code = '''\n",
    "for i in range(10**6):\n",
    "    pass\n",
    "'''\n",
    "timeit.timeit(stmt=code, number=3, timer=time.process_time_ns)"
   ]
  },
  {
   "cell_type": "markdown",
   "metadata": {},
   "source": [
    "#### Write a decorator that shows the nanoseconds taken by a fuction to run"
   ]
  },
  {
   "cell_type": "code",
   "execution_count": null,
   "metadata": {},
   "outputs": [],
   "source": [
    "import cProfile\n",
    "\n",
    "def add(a, b):\n",
    "    for _ in range(1000000):\n",
    "        pass\n",
    "    return a + b\n",
    "\n",
    "prof = cProfile.Profile()\n",
    "prof.enable()\n",
    "for _ in range(5):\n",
    "    [add(i, i*2) for i in range(10)]\n",
    "prof.disable()\n",
    "prof.print_stats()"
   ]
  },
  {
   "cell_type": "markdown",
   "metadata": {},
   "source": [
    "## Memoization\n",
    "###### Memoization allows you to optimize a function by caching its output based on the parameters you supply to it. Once you memoize a function, it will only compute its output once for each set of parameters you call it with. Every call after the first will be quickly retrieved from a cache."
   ]
  },
  {
   "cell_type": "code",
   "execution_count": null,
   "metadata": {},
   "outputs": [],
   "source": [
    "import timeit\n",
    "\n",
    "def fibonacci(k):\n",
    "   if k==0:\n",
    "    return 0\n",
    "   if k==1:\n",
    "    return 1\n",
    "   else:\n",
    "    return fibonacci(k-1) + fibonacci(k-2)\n"
   ]
  },
  {
   "cell_type": "code",
   "execution_count": null,
   "metadata": {},
   "outputs": [],
   "source": [
    "timeit.timeit(stmt ='fibonacci(30)', number = 1, globals = globals())"
   ]
  },
  {
   "cell_type": "markdown",
   "metadata": {},
   "source": [
    "### Writing a function decorator for memoization "
   ]
  },
  {
   "cell_type": "code",
   "execution_count": null,
   "metadata": {},
   "outputs": [],
   "source": [
    "def memoization(func):\n",
    "    cache = {}\n",
    "    def wrapper(*args):\n",
    "        if args in cache:\n",
    "            return cache[args]\n",
    "        else:\n",
    "            res = func(*args)\n",
    "            cache[args] = res\n",
    "            return res\n",
    "    return wrapper"
   ]
  },
  {
   "cell_type": "code",
   "execution_count": null,
   "metadata": {},
   "outputs": [],
   "source": [
    "# Running fibonacci(30) for the first time\n",
    "memoized = memoization(fibonacci)\n",
    "\n",
    "print(timeit.timeit('memoized(30)', globals = globals(), number = 1))\n",
    "\n",
    "print(timeit.timeit('memoized(30)', globals = globals(), number = 1))\n",
    "memoized.__closure__[0].cell_contents"
   ]
  },
  {
   "cell_type": "markdown",
   "metadata": {},
   "source": [
    "### Using a built-in decorator for memoization"
   ]
  },
  {
   "cell_type": "code",
   "execution_count": null,
   "metadata": {},
   "outputs": [],
   "source": [
    "from functools import lru_cache\n",
    "\n",
    "@lru_cache(maxsize = 512)\n",
    "def fibonacci(k):\n",
    "   if k==0:\n",
    "    return 0\n",
    "   if k==1:\n",
    "    return 1\n",
    "   else:\n",
    "    return fibonacci(k-1) + fibonacci(k-2)\n",
    "\n",
    "print(timeit.timeit('fibonacci(10)', globals = globals(), number = 1))\n",
    "\n",
    "print(timeit.timeit('fibonacci(75)', globals = globals(), number = 1))\n",
    "\n",
    "print(timeit.timeit('fibonacci(150)', globals = globals(), number = 1))\n",
    "\n",
    "print(timeit.timeit('fibonacci(500)', globals = globals(), number = 1))\n",
    "\n",
    "fibonacci.cache_info()"
   ]
  },
  {
   "cell_type": "markdown",
   "metadata": {},
   "source": [
    "### Where to use Memoization ?"
   ]
  },
  {
   "cell_type": "markdown",
   "metadata": {},
   "source": [
    "### namedtuples\n",
    "###### namedtuples are just like tuples with the difference being you can access the data using indexes or field names\n",
    "###### namedtuple are immutable just like tuples"
   ]
  },
  {
   "cell_type": "code",
   "execution_count": null,
   "metadata": {},
   "outputs": [],
   "source": [
    "from collections import namedtuple\n",
    "Student = namedtuple('Student',['grade', 'roll_no'])"
   ]
  },
  {
   "cell_type": "code",
   "execution_count": null,
   "metadata": {},
   "outputs": [],
   "source": [
    "stud_1 = Student(9.8,1145)\n",
    "print(stud_1.grade, stud_1[0], getattr(stud_1, 'grade'))"
   ]
  },
  {
   "cell_type": "code",
   "execution_count": null,
   "metadata": {},
   "outputs": [],
   "source": [
    "stud_1.grade = 9.5"
   ]
  },
  {
   "cell_type": "markdown",
   "metadata": {},
   "source": [
    "#### Built-in methods for namedtuple\n",
    "###### _asdict() - Returns the namedtuple as an OrderedDict"
   ]
  },
  {
   "cell_type": "code",
   "execution_count": null,
   "metadata": {},
   "outputs": [],
   "source": [
    "stud_1._asdict()"
   ]
  },
  {
   "cell_type": "markdown",
   "metadata": {},
   "source": [
    "###### _fields() - Returns all the fields of the namedtuple"
   ]
  },
  {
   "cell_type": "code",
   "execution_count": null,
   "metadata": {},
   "outputs": [],
   "source": [
    "stud_1._fields"
   ]
  },
  {
   "cell_type": "markdown",
   "metadata": {},
   "source": [
    "###### _replace() - Replaces the value of a given field (Only way to change values in namedtuple)"
   ]
  },
  {
   "cell_type": "code",
   "execution_count": null,
   "metadata": {},
   "outputs": [],
   "source": [
    "stud_1._replace(roll_no= 1000)"
   ]
  },
  {
   "cell_type": "markdown",
   "metadata": {},
   "source": [
    "###### _make() - Returns a namedtuple from a iterable"
   ]
  },
  {
   "cell_type": "code",
   "execution_count": null,
   "metadata": {},
   "outputs": [],
   "source": [
    "values = [8.5, 1455]\n",
    "stud_2 = Student._make(values)\n",
    "stud_2"
   ]
  },
  {
   "cell_type": "markdown",
   "metadata": {},
   "source": [
    "#### Extending classes with namedtuples\n",
    "###### Methods can be added to namedtuples by extending it with a class"
   ]
  },
  {
   "cell_type": "code",
   "execution_count": null,
   "metadata": {},
   "outputs": [],
   "source": [
    "class AddCategories(Student):\n",
    "    def getCategory(self):\n",
    "        if self.grade == 10:\n",
    "            return 'A+'\n",
    "        elif self.grade > 9:\n",
    "            return 'A'\n",
    "        else:\n",
    "            return 'B'\n"
   ]
  },
  {
   "cell_type": "code",
   "execution_count": null,
   "metadata": {},
   "outputs": [],
   "source": [
    "cat_1 = AddCategories(9.8,1142)\n",
    "print(cat_1.getCategory())\n",
    "cat_2 = AddCategories(*stud_2)\n",
    "print(cat_2.getCategory())"
   ]
  },
  {
   "cell_type": "markdown",
   "metadata": {},
   "source": [
    "### Logging\n",
    "#### Logging is a method by which each and every line of the code can be monitored and their status saved for debugging or record keeping.\n",
    "### Logging has 5 levels, in increasing order of severity,\n",
    " ###### 1. Debug\n",
    " ###### 2. Info\n",
    " ###### 3. Warning\n",
    " ###### 4. Error\n",
    " ###### 5. Crirtical\n",
    " \n",
    "### Logging mode is decided by the user depending on the use, all the levels equal to or greater than the selected level will be logged. By default, the logging mode is Warning."
   ]
  },
  {
   "cell_type": "code",
   "execution_count": null,
   "metadata": {},
   "outputs": [],
   "source": [
    "import logging\n",
    "from importlib import reload\n",
    "reload(logging)"
   ]
  },
  {
   "cell_type": "code",
   "execution_count": null,
   "metadata": {},
   "outputs": [],
   "source": [
    "logging.basicConfig(level=logging.ERROR,\n",
    "                    filename=\"log-test.log\", filemode=\"w\",\n",
    "                    format='%(process)d - %(levelname)s - %(asctime)s - %(message)s')\n",
    "logging.debug('This is a debug message')\n",
    "logging.info('This is a info message')\n",
    "logging.basicConfig(level=logging.DEBUG)\n",
    "logging.warning('This is a warning message', exc_info=True)\n",
    "logging.error('This is an error message')\n",
    "logging.critical('This is a critical message')\n",
    "logging.debug('This is a debug message')"
   ]
  },
  {
   "cell_type": "markdown",
   "metadata": {},
   "source": [
    "### Important\n",
    "#### basicConfig method is made to run only once, so you can't change logging level anywhere in between, therefore you should use the basicConfig method before logging anything because all the logging methods, viz. logging.debug(), logging.info(), etc, call basicConfig method internally, so if anything is logged, you can't configure basicConfig() anymore until you reset the root handlers."
   ]
  },
  {
   "cell_type": "markdown",
   "metadata": {},
   "source": [
    "## PEP 8\n",
    "[A Guide to PEP8](https://realpython.com/python-pep8/)"
   ]
  },
  {
   "cell_type": "code",
   "execution_count": null,
   "metadata": {},
   "outputs": [],
   "source": [
    "import this"
   ]
  }
 ],
 "metadata": {
  "kernelspec": {
   "display_name": "Python 3",
   "language": "python",
   "name": "python3"
  },
  "language_info": {
   "codemirror_mode": {
    "name": "ipython",
    "version": 3
   },
   "file_extension": ".py",
   "mimetype": "text/x-python",
   "name": "python",
   "nbconvert_exporter": "python",
   "pygments_lexer": "ipython3",
   "version": "3.7.1"
  }
 },
 "nbformat": 4,
 "nbformat_minor": 2
}
